{
  "cells": [
    {
      "cell_type": "markdown",
      "id": "8b42867b",
      "metadata": {
        "id": "8b42867b"
      },
      "source": [
        "#ME615 Tutorial 2"
      ]
    },
    {
      "cell_type": "markdown",
      "id": "7b34c90f",
      "metadata": {
        "jp-MarkdownHeadingCollapsed": true,
        "id": "7b34c90f"
      },
      "source": [
        "# 1-D Elliptic problem (steady-state head conduction)\n",
        "\n",
        "\n",
        "The non-dimensional 1-D heat conduction equation for a fin is given as:\n",
        "\n",
        "GDE: $\\frac{d^2 \\theta}{d x^2} = \\Pi \\theta$, where $\\Pi$ is a non-dimensional parameter,\n",
        "\n",
        "BC 1: $\\theta(x=0)=1$, and\n",
        "\n",
        "BC 2: $\\left( \\frac{d \\theta}{d x} \\right)_{x=1}=0$.\n",
        "\n",
        "You have to solve this problem for $\\theta(x)$, where $x \\in [0,1]$.\n",
        "\n",
        "Please note that you have only one non-dimensional parameter $\\Pi$ in this problem. The solution to the above system depends on this parameter only.\n",
        "\n",
        "### Exercise 1:\n",
        "1. Write the discretised equations corresponding to the above system.\n",
        "2. Write the above equations as a linear system $A \\theta = r$, showing the matrix $A$ and RHS vector $r$.\n",
        "3. Write a Python program to solve for the $\\theta$ vector, for $\\Pi=0.01$ and $N=10$, which corresponds to $N+1$ nodal points. You may store the full A matrix and invert it to calculate the unknown vector $\\theta$.\n",
        "4. Plot $\\theta$ as a function of $x$. The present problem has an analytical solution that can be used to test the implementation; $\\theta_{a}=\\frac{\\cosh(\\sqrt{\\pi} (1-x))}{\\cosh{\\sqrt{\\pi}}}$. Plot the analytical solution on the same graph too."
      ]
    },
    {
      "cell_type": "code",
      "execution_count": null,
      "id": "3bbe71b2",
      "metadata": {
        "jupyter": {
          "source_hidden": true
        },
        "id": "3bbe71b2"
      },
      "outputs": [],
      "source": [
        "# %%timeit\n",
        "\n",
        "import numpy as np\n",
        "import matplotlib.pyplot as plt\n",
        "import math\n",
        "\n",
        "pie=0.01\n",
        "N=10\n",
        "\n",
        "h=1.0/(N)\n",
        "a=1./h**2\n",
        "b=1./h**2\n",
        "d=-(2/h**2 + pie)\n",
        "\n",
        "# inefficient method that stores the full matrix A\n",
        "A=np.zeros((N+1,N+1))\n",
        "A[0][0]=1\n",
        "A[N][N]=1\n",
        "A[N][N-1]=-1\n",
        "for i in range(1,N):\n",
        "    A[i][i]=d\n",
        "    A[i][i+1]=a\n",
        "    A[i][i-1]=b\n",
        "\n",
        "r=np.zeros(N+1)\n",
        "r[0]=1.\n",
        "\n",
        "theta_num=np.dot(np.linalg.inv(A),r)\n",
        "x=np.linspace(0,1,N+1)\n",
        "theta_ana=np.cosh(np.sqrt(pie)*(1.-x))/np.cosh(np.sqrt(pie))\n",
        "\n",
        "plt.plot(x,theta_num, label=\"numerical\")\n",
        "plt.plot(x,theta_ana, 'r--',label=\"analytical\")\n",
        "plt.xlabel(r\"$x$\")\n",
        "plt.ylabel(r\"$\\theta$\")\n",
        "plt.grid()\n",
        "plt.legend()\n",
        "plt.show()"
      ]
    },
    {
      "cell_type": "markdown",
      "id": "4da73206",
      "metadata": {
        "jp-MarkdownHeadingCollapsed": true,
        "id": "4da73206"
      },
      "source": [
        "### Exercise 2:\n",
        "1. Solve **Exercise 1** with the help of the tridiagonal matrix algorithm (TDMA).\n",
        "2. Time the execution using the %%timeit magic command of Python and compare TDMA with inverse calculation method.\n",
        "\n"
      ]
    },
    {
      "cell_type": "code",
      "execution_count": null,
      "id": "efb11c8a",
      "metadata": {
        "jupyter": {
          "source_hidden": true
        },
        "id": "efb11c8a"
      },
      "outputs": [],
      "source": [
        "# %%timeit   # to time the execution of the function\n",
        "\n",
        "import numpy as np\n",
        "import matplotlib.pyplot as plt\n",
        "import math\n",
        "\n",
        "pie=0.01\n",
        "N=10\n",
        "\n",
        "h=1.0/(N)\n",
        "\n",
        "# TDMA method\n",
        "# Start with \\theta_1, therefore, \\theta_0 denotes the first interior point from the left\n",
        "\n",
        "# initialise the four arrays\n",
        "d=np.ones(N)*(-2/h**2 - pie)\n",
        "a=np.ones(N)*(1./h**2)\n",
        "b=np.ones(N)*(1./h**2)\n",
        "r=np.zeros(N)\n",
        "theta_num=np.ones(N)\n",
        "theta_num[0]=1.0\n",
        "\n",
        "d[N-1]=1\n",
        "b[N-1]=-1\n",
        "\n",
        "r[0]=-(1./h**2)*1.0\n",
        "\n",
        "#forward eliminitaion\n",
        "for i in range(1,N):\n",
        "    d[i] = d[i] - a[i-1]*(b[i]/d[i-1])\n",
        "    r[i] = r[i] - r[i-1]*(b[i]/d[i-1])\n",
        "\n",
        "#backward substitution\n",
        "theta_num[N-1] = r[N-1]/d[N-1]\n",
        "for i in range(N-2,0,-1):\n",
        "    theta_num[i]=(r[i]-a[i]*theta_num[i+1])/d[i]\n",
        "\n",
        "x=np.linspace(0,1,N)\n",
        "theta_ana=np.cosh(np.sqrt(pie)*(1.-x))/np.cosh(np.sqrt(pie))\n",
        "\n",
        "plt.plot(x,theta_num, label=\"numerical\")\n",
        "plt.plot(x,theta_ana, 'r--',label=\"analytical\")\n",
        "plt.xlabel(r\"$x$\")\n",
        "plt.ylabel(r\"$\\theta$\")\n",
        "plt.grid()\n",
        "plt.legend()\n",
        "plt.show()"
      ]
    },
    {
      "cell_type": "markdown",
      "id": "8fd72d0b",
      "metadata": {
        "id": "8fd72d0b"
      },
      "source": [
        "### Exercise 3\n",
        "Plot $\\theta$ vs $x$ for different values of $N$ (=10, 50, 100, 1000). Also plot the analytical solution on the same graph and compare. What happens as you increase the value of $N$, and why? Is it desirable to choose a very large value for $N$? What is the optimum $N$ value. What can you say about *grid independence* from the graph?\n",
        "\n",
        "There is a trade-off between the solution accuracy and the computation time; however, beyond a certain value of $N$ the solution does note change much -- the solution is said to become *grid independent* beyond this value of $N$."
      ]
    },
    {
      "cell_type": "code",
      "execution_count": null,
      "id": "5647d076",
      "metadata": {
        "id": "5647d076"
      },
      "outputs": [],
      "source": [
        "import numpy as np\n",
        "import matplotlib.pyplot as plt\n",
        "import math\n",
        "\n",
        "pie=0.01\n",
        "for N in [10, 50, 100, 1000]:\n",
        "    h=1.0/(N)\n",
        "\n",
        "    # initialise the four arrays\n",
        "    d=np.ones(N)*(-2/h**2 - pie)\n",
        "    a=np.ones(N)*(1./h**2)\n",
        "    b=np.ones(N)*(1./h**2)\n",
        "    r=np.zeros(N)\n",
        "    theta_num=np.ones(N)\n",
        "    theta_num[0]=1.0\n",
        "\n",
        "    d[N-1]=1\n",
        "    b[N-1]=-1\n",
        "\n",
        "    r[0]=-(1./h**2)*1.0\n",
        "\n",
        "    #forward eliminitaion\n",
        "    for i in range(1,N):\n",
        "        d[i] = d[i] - a[i-1]*(b[i]/d[i-1])\n",
        "        r[i] = r[i] - r[i-1]*(b[i]/d[i-1])\n",
        "\n",
        "    #backward substitution\n",
        "    theta_num[N-1] = r[N-1]/d[N-1]\n",
        "    for i in range(N-2,0,-1):\n",
        "        theta_num[i]=(r[i]-a[i]*theta_num[i+1])/d[i]\n",
        "\n",
        "    x=np.linspace(0,1,N)\n",
        "    plt.plot(x,theta_num, label=\"N=\"+str(N))\n",
        "\n",
        "N=20\n",
        "x=np.linspace(0,1,N)\n",
        "theta_ana=np.cosh(np.sqrt(pie)*(1.-x))/np.cosh(np.sqrt(pie))\n",
        "plt.plot(x,theta_ana, 'b*', label=\"analytical\")\n",
        "plt.xlabel(r\"$x$\")\n",
        "plt.ylabel(r\"$\\theta_{num}$\")\n",
        "plt.grid()\n",
        "plt.legend()\n",
        "plt.show()"
      ]
    },
    {
      "cell_type": "markdown",
      "id": "945485d0",
      "metadata": {
        "id": "945485d0"
      },
      "source": [
        "### Exercise 4\n",
        "Plot the error in numerical solution (at $x=0.5$) versus $\\Delta x$ on a log-log graph and find the order of convergence.\n"
      ]
    },
    {
      "cell_type": "code",
      "execution_count": null,
      "id": "25cd8b26",
      "metadata": {
        "id": "25cd8b26"
      },
      "outputs": [],
      "source": [
        "import numpy as np\n",
        "import matplotlib.pyplot as plt\n",
        "import math\n",
        "\n",
        "pie=0.0001\n",
        "N_list=[10, 50, 100, 1000]\n",
        "error=[]\n",
        "for N in N_list:\n",
        "    h=1.0/(N)\n",
        "\n",
        "    # initialise the four arrays\n",
        "    d=np.ones(N)*(-2/h**2 - pie)\n",
        "    a=np.ones(N)*(1./h**2)\n",
        "    b=np.ones(N)*(1./h**2)\n",
        "    r=np.zeros(N)\n",
        "    theta_num=np.ones(N)\n",
        "    theta_num[0]=1.0\n",
        "\n",
        "    d[N-1]=-1\n",
        "    b[N-1]=1\n",
        "\n",
        "    r[0]=-(1./h**2)*1.0\n",
        "\n",
        "    #forward eliminitaion\n",
        "    for i in range(1,N):\n",
        "        d[i] = d[i] - a[i-1]*(b[i]/d[i-1])\n",
        "        r[i] = r[i] - r[i-1]*(b[i]/d[i-1])\n",
        "\n",
        "    #backward substitution\n",
        "    theta_num[N-1] = r[N-1]/d[N-1]\n",
        "    for i in range(N-2,0,-1):\n",
        "        theta_num[i]=(r[i]-a[i]*theta_num[i+1])/d[i]\n",
        "\n",
        "    x=np.linspace(0,1,N)\n",
        "    theta_ana=np.cosh(np.sqrt(pie)*(1.-x))/np.cosh(np.sqrt(pie))\n",
        "    err=theta_num[int(N/2)]-theta_ana[int(N/2)]\n",
        "    error.append(err)\n",
        "\n",
        "plt.plot(np.log10(1/np.array(N_list)),np.log10(np.abs(error)))\n",
        "plt.xlabel(r\"$\\Delta x$\")\n",
        "plt.ylabel(r\"error\")\n",
        "plt.grid()\n",
        "plt.show()"
      ]
    }
  ],
  "metadata": {
    "kernelspec": {
      "display_name": "Python 3 (ipykernel)",
      "language": "python",
      "name": "python3"
    },
    "language_info": {
      "codemirror_mode": {
        "name": "ipython",
        "version": 3
      },
      "file_extension": ".py",
      "mimetype": "text/x-python",
      "name": "python",
      "nbconvert_exporter": "python",
      "pygments_lexer": "ipython3",
      "version": "3.11.4"
    },
    "colab": {
      "provenance": []
    }
  },
  "nbformat": 4,
  "nbformat_minor": 5
}